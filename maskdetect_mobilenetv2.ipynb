{
  "nbformat": 4,
  "nbformat_minor": 0,
  "metadata": {
    "colab": {
      "name": "maskdetect_mobilenetv2.ipynb",
      "provenance": [],
      "collapsed_sections": [],
      "mount_file_id": "1dmqYwBGX6JPh5Bm7erha473qysUKbFGg",
      "authorship_tag": "ABX9TyOAS/DJbKLXoATtbPeoF1tb",
      "include_colab_link": true
    },
    "kernelspec": {
      "name": "python3",
      "display_name": "Python 3"
    },
    "language_info": {
      "name": "python"
    }
  },
  "cells": [
    {
      "cell_type": "markdown",
      "metadata": {
        "id": "view-in-github",
        "colab_type": "text"
      },
      "source": [
        "<a href=\"https://colab.research.google.com/github/PranavBharadwaj-1328/FaceMaskDetection/blob/main/maskdetect_mobilenetv2.ipynb\" target=\"_parent\"><img src=\"https://colab.research.google.com/assets/colab-badge.svg\" alt=\"Open In Colab\"/></a>"
      ]
    },
    {
      "cell_type": "markdown",
      "source": [
        "Transfer learning using MobileNetV2 for face mask detection"
      ],
      "metadata": {
        "id": "c8ciLzC6QFzL"
      }
    },
    {
      "cell_type": "code",
      "execution_count": 10,
      "metadata": {
        "id": "mYC6TzQOQEpx"
      },
      "outputs": [],
      "source": [
        "import tensorflow as tf\n",
        "from tensorflow.keras import layers, Model\n",
        "from tensorflow.keras.optimizers import Adam\n",
        "from tensorflow.keras.preprocessing.image import ImageDataGenerator\n",
        "import os"
      ]
    },
    {
      "cell_type": "markdown",
      "source": [
        "Fetching the trained model"
      ],
      "metadata": {
        "id": "OpluOVizmM48"
      }
    },
    {
      "cell_type": "code",
      "source": [
        "trained_model = tf.keras.applications.mobilenet_v2.MobileNetV2(input_shape=(224,224,3), weights='imagenet', include_top=False)\n",
        "print(trained_model.output_shape)"
      ],
      "metadata": {
        "colab": {
          "base_uri": "https://localhost:8080/"
        },
        "id": "5GFFFh6yQ_2S",
        "outputId": "c2600ef8-ac8b-4372-d291-44db8d47b169"
      },
      "execution_count": 11,
      "outputs": [
        {
          "output_type": "stream",
          "name": "stdout",
          "text": [
            "(None, 7, 7, 1280)\n"
          ]
        }
      ]
    },
    {
      "cell_type": "markdown",
      "source": [
        "Making the layers of trained model un-trainable "
      ],
      "metadata": {
        "id": "LkU-lLKHmTKo"
      }
    },
    {
      "cell_type": "code",
      "source": [
        "for layer in trained_model.layers:\n",
        "  layer.trainable = False\n",
        "last_layer = trained_model.get_layer('out_relu')\n",
        "last_output = last_layer.output\n",
        "print(last_output.shape)"
      ],
      "metadata": {
        "colab": {
          "base_uri": "https://localhost:8080/"
        },
        "id": "JtYoJUKzR2_h",
        "outputId": "beb87106-95b2-4882-c1fa-1f35a7c8888a"
      },
      "execution_count": 12,
      "outputs": [
        {
          "output_type": "stream",
          "name": "stdout",
          "text": [
            "(None, 7, 7, 1280)\n"
          ]
        }
      ]
    },
    {
      "cell_type": "markdown",
      "source": [
        "Adding a Flatten, Dense(512), Dropout(0.2), Dense(128), Dropout(0.1) and Dense(1)"
      ],
      "metadata": {
        "id": "2xt8Yws_mb91"
      }
    },
    {
      "cell_type": "code",
      "source": [
        "x = layers.Flatten()(last_output)\n",
        "x = layers.Dense(512, activation='relu')(x)\n",
        "x = layers.Dropout(0.2)(x)\n",
        "x = layers.Dense(128, activation='relu')(x)\n",
        "x = layers.Dropout(0.1)(x)\n",
        "x = layers.Dense(1, activation='sigmoid')(x)\n",
        "model = Model(trained_model.input,x)\n",
        "model.compile(optimizer = Adam(learning_rate=0.0001),\n",
        "              loss = tf.keras.losses.BinaryCrossentropy(),\n",
        "              metrics = [tf.keras.metrics.BinaryAccuracy()])"
      ],
      "metadata": {
        "id": "jJGTz1RFSk-X"
      },
      "execution_count": 13,
      "outputs": []
    },
    {
      "cell_type": "code",
      "source": [
        "base = '/content/drive/MyDrive/data'\n",
        "train = os.path.join(base,'Train')\n",
        "test = os.path.join(base,'Test')"
      ],
      "metadata": {
        "id": "cpEKhyE2VDzf"
      },
      "execution_count": 14,
      "outputs": []
    },
    {
      "cell_type": "code",
      "source": [
        "train_settings = ImageDataGenerator(rescale=1.0/255.,\n",
        "                                     rotation_range=40,\n",
        "                                     width_shift_range=0.2,\n",
        "                                     height_shift_range=0.2,\n",
        "                                     shear_range=0.2,\n",
        "                                     zoom_range=0.2,\n",
        "                                     horizontal_flip=True,\n",
        "                                     fill_mode='nearest')\n",
        "test_settings = ImageDataGenerator(rescale=1.0/255.)"
      ],
      "metadata": {
        "id": "fOVtRxJ1WNNr"
      },
      "execution_count": 15,
      "outputs": []
    },
    {
      "cell_type": "code",
      "source": [
        "train_gen = train_settings.flow_from_directory(train,\n",
        "                                               batch_size=64,\n",
        "                                               class_mode='binary',\n",
        "                                               target_size=(224,224))\n",
        "test_gen = test_settings.flow_from_directory(test,\n",
        "                                               batch_size=20,\n",
        "                                               class_mode='binary',\n",
        "                                               target_size=(224,224))"
      ],
      "metadata": {
        "colab": {
          "base_uri": "https://localhost:8080/"
        },
        "id": "Y6DkCVBXW6cQ",
        "outputId": "989324d3-23b0-4cbc-f139-d39388b72ef5"
      },
      "execution_count": 16,
      "outputs": [
        {
          "output_type": "stream",
          "name": "stdout",
          "text": [
            "Found 2342 images belonging to 2 classes.\n",
            "Found 300 images belonging to 2 classes.\n"
          ]
        }
      ]
    },
    {
      "cell_type": "code",
      "source": [
        "history = model.fit(train_gen,\n",
        "                    validation_data=test_gen,\n",
        "                    verbose=1,\n",
        "                    shuffle=True,\n",
        "                    epochs=4,\n",
        "                    steps_per_epoch=10,\n",
        "                    validation_steps=5)"
      ],
      "metadata": {
        "colab": {
          "base_uri": "https://localhost:8080/"
        },
        "id": "CiErH-GdXleg",
        "outputId": "373ad8c7-fc91-4d15-cd78-03bb8fa697b1"
      },
      "execution_count": 17,
      "outputs": [
        {
          "output_type": "stream",
          "name": "stdout",
          "text": [
            "Epoch 1/4\n",
            "10/10 [==============================] - 50s 5s/step - loss: 0.4831 - binary_accuracy: 0.8250 - val_loss: 0.0632 - val_binary_accuracy: 0.9800\n",
            "Epoch 2/4\n",
            "10/10 [==============================] - 39s 4s/step - loss: 0.1045 - binary_accuracy: 0.9609 - val_loss: 0.0202 - val_binary_accuracy: 0.9800\n",
            "Epoch 3/4\n",
            "10/10 [==============================] - 36s 3s/step - loss: 0.1079 - binary_accuracy: 0.9642 - val_loss: 0.0937 - val_binary_accuracy: 0.9400\n",
            "Epoch 4/4\n",
            "10/10 [==============================] - 34s 3s/step - loss: 0.0369 - binary_accuracy: 0.9922 - val_loss: 0.0167 - val_binary_accuracy: 0.9900\n"
          ]
        }
      ]
    },
    {
      "cell_type": "code",
      "source": [
        "model.save('/content/drive/MyDrive/data/mnetv22.h5')"
      ],
      "metadata": {
        "id": "pmXFHh5ZfRsM"
      },
      "execution_count": 21,
      "outputs": []
    },
    {
      "cell_type": "code",
      "source": [
        "import cv2\n",
        "import keras"
      ],
      "metadata": {
        "id": "hahAaEMIfmP_"
      },
      "execution_count": 22,
      "outputs": []
    },
    {
      "cell_type": "code",
      "source": [
        "maskdetector = keras.models.load_model('/content/drive/MyDrive/data/mnetv22.h5')"
      ],
      "metadata": {
        "id": "mBIkDkgBg-7X"
      },
      "execution_count": 23,
      "outputs": []
    },
    {
      "cell_type": "code",
      "source": [
        "mimg = cv2.imread('/content/pbm.jpg')\n",
        "nmimg = cv2.imread('/content/pbnm.jpg')\n",
        "mimg = cv2.resize(mimg,(224,224))\n",
        "nmimg = cv2.resize(nmimg,(224,224))\n",
        "pic1 = mimg.reshape(1,224,224,3)\n",
        "pic2 = nmimg.reshape(1,224,224,3)"
      ],
      "metadata": {
        "id": "oNUVh3Uzhkln"
      },
      "execution_count": 24,
      "outputs": []
    },
    {
      "cell_type": "code",
      "source": [
        "pic1 = tf.keras.applications.mobilenet_v2.preprocess_input(pic1,data_format='channels_last')\n",
        "pic2 = tf.keras.applications.mobilenet_v2.preprocess_input(pic2,data_format='channels_last')"
      ],
      "metadata": {
        "id": "infG99ZdikYJ"
      },
      "execution_count": 25,
      "outputs": []
    },
    {
      "cell_type": "code",
      "source": [
        "predictions = maskdetector.predict(pic1)"
      ],
      "metadata": {
        "id": "enu-5kohjLEg"
      },
      "execution_count": 28,
      "outputs": []
    },
    {
      "cell_type": "code",
      "source": [
        "print(predictions)"
      ],
      "metadata": {
        "colab": {
          "base_uri": "https://localhost:8080/"
        },
        "id": "hQoavNd5kA0H",
        "outputId": "1cb47243-2435-47a3-a9a8-3f5e1f60b20f"
      },
      "execution_count": 29,
      "outputs": [
        {
          "output_type": "stream",
          "name": "stdout",
          "text": [
            "[[0.0001893]]\n"
          ]
        }
      ]
    },
    {
      "cell_type": "code",
      "source": [
        "epochs = [0,1,2,3,4]\n",
        "accuracy = [0]+ history.history['binary_accuracy']\n",
        "val_accuracy = [0] + history.history['val_binary_accuracy']\n",
        "val_loss = [1] + history.history['val_loss']\n",
        "loss = [1] + history.history['loss']\n",
        "print(epochs)\n",
        "print(accuracy)\n",
        "print(loss)"
      ],
      "metadata": {
        "id": "rJDtkYY3qZ6p",
        "colab": {
          "base_uri": "https://localhost:8080/"
        },
        "outputId": "740b3805-4376-41a3-90df-02112c41d000"
      },
      "execution_count": 39,
      "outputs": [
        {
          "output_type": "stream",
          "name": "stdout",
          "text": [
            "[0, 1, 2, 3, 4]\n",
            "[0, 0.824999988079071, 0.9609120488166809, 0.9641693830490112, 0.9921875]\n",
            "[1, 0.48309579491615295, 0.10453487932682037, 0.10791169852018356, 0.03688780218362808]\n"
          ]
        }
      ]
    },
    {
      "cell_type": "code",
      "source": [
        "import matplotlib.pyplot as plt\n",
        "plt.title('Training')\n",
        "plt.plot(epochs,accuracy,'g-')\n",
        "plt.plot(epochs, loss, 'r-')\n",
        "plt.xlabel('epochs')\n",
        "plt.ylabel('accuracy/loss')\n",
        "plt.legend([\"accuracy\", \"loss\"], loc =\"center right\")\n",
        "plt.show()"
      ],
      "metadata": {
        "colab": {
          "base_uri": "https://localhost:8080/",
          "height": 295
        },
        "id": "jF9lf9DpNPiI",
        "outputId": "582e2d99-ab30-44bb-afd2-caea51edb339"
      },
      "execution_count": 38,
      "outputs": [
        {
          "output_type": "display_data",
          "data": {
            "text/plain": [
              "<Figure size 432x288 with 1 Axes>"
            ],
            "image/png": "[encoded data removed]"
          },
          "metadata": {
            "needs_background": "light"
          }
        }
      ]
    },
    {
      "cell_type": "code",
      "source": [
        "plt.title('Validation')\n",
        "plt.plot(epochs,val_accuracy,'g-')\n",
        "plt.plot(epochs, val_loss, 'r-')\n",
        "plt.xlabel('epochs')\n",
        "plt.ylabel('accuracy/loss')\n",
        "plt.legend([\"accuracy\", \"loss\"], loc =\"center right\")\n",
        "plt.show()"
      ],
      "metadata": {
        "colab": {
          "base_uri": "https://localhost:8080/",
          "height": 295
        },
        "id": "eck5uhYfOAFg",
        "outputId": "0f9f0ed4-8c39-4b56-c32f-08fbe3a432da"
      },
      "execution_count": 40,
      "outputs": [
        {
          "output_type": "display_data",
          "data": {
            "text/plain": [
              "<Figure size 432x288 with 1 Axes>"
            ],
            "image/png": "[encoded data removed]"
          },
          "metadata": {
            "needs_background": "light"
          }
        }
      ]
    },
    {
      "cell_type": "code",
      "source": [
        ""
      ],
      "metadata": {
        "id": "nB5GA0ftPugB"
      },
      "execution_count": null,
      "outputs": []
    }
  ]
}