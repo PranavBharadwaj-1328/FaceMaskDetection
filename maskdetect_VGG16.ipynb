{
  "nbformat": 4,
  "nbformat_minor": 0,
  "metadata": {
    "colab": {
      "name": "maskdetect_VGG16.ipynb",
      "provenance": [],
      "collapsed_sections": [],
      "mount_file_id": "18cnV0mJcvpUDAj_EBrMWT4P-vO0hoaaB",
      "authorship_tag": "ABX9TyMmxVxp4Rf11zfdDBZD2lh1",
      "include_colab_link": true
    },
    "kernelspec": {
      "name": "python3",
      "display_name": "Python 3"
    },
    "language_info": {
      "name": "python"
    }
  },
  "cells": [
    {
      "cell_type": "markdown",
      "metadata": {
        "id": "view-in-github",
        "colab_type": "text"
      },
      "source": [
        "<a href=\"https://colab.research.google.com/github/PranavBharadwaj-1328/FaceMaskDetection/blob/main/maskdetect_VGG16.ipynb\" target=\"_parent\"><img src=\"https://colab.research.google.com/assets/colab-badge.svg\" alt=\"Open In Colab\"/></a>"
      ]
    },
    {
      "cell_type": "code",
      "execution_count": null,
      "metadata": {
        "id": "Fra2AT7PeR3V"
      },
      "outputs": [],
      "source": [
        "import tensorflow as tf\n",
        "from tensorflow.keras import layers, Model\n",
        "from tensorflow.keras.optimizers import Adam\n",
        "import os\n",
        "from tensorflow.keras.preprocessing.image import ImageDataGenerator"
      ]
    },
    {
      "cell_type": "code",
      "source": [
        "trained_model = tf.keras.applications.vgg16.VGG16(input_shape=(224,224,3), include_top=False, weights='imagenet')"
      ],
      "metadata": {
        "id": "FNb7xX31svZP",
        "colab": {
          "base_uri": "https://localhost:8080/"
        },
        "outputId": "3300311d-7094-4b41-ee07-d19cb72caa83"
      },
      "execution_count": null,
      "outputs": [
        {
          "output_type": "stream",
          "name": "stdout",
          "text": [
            "Downloading data from https://storage.googleapis.com/tensorflow/keras-applications/vgg16/vgg16_weights_tf_dim_ordering_tf_kernels_notop.h5\n",
            "58892288/58889256 [==============================] - 0s 0us/step\n",
            "58900480/58889256 [==============================] - 0s 0us/step\n"
          ]
        }
      ]
    },
    {
      "cell_type": "code",
      "source": [
        "for layer in trained_model.layers:\n",
        "  layer.trainable = False"
      ],
      "metadata": {
        "id": "o-S-gPjMuzZI"
      },
      "execution_count": null,
      "outputs": []
    },
    {
      "cell_type": "code",
      "source": [
        "last_layer = trained_model.get_layer('block5_pool')\n",
        "last_output = last_layer.output"
      ],
      "metadata": {
        "id": "qVQZu7cyvQ_I"
      },
      "execution_count": null,
      "outputs": []
    },
    {
      "cell_type": "code",
      "source": [
        "x = layers.Flatten()(last_output)\n",
        "x = layers.Dense(512, activation='relu')(x)\n",
        "x = layers.Dropout(0.2)(x)\n",
        "x = layers.Dense(128, activation='relu')(x)\n",
        "x = layers.Dropout(0.1)(x)\n",
        "x = layers.Dense(1, activation='sigmoid')(x)\n",
        "model = Model(trained_model.input,x)\n",
        "model.compile(optimizer = Adam(learning_rate=0.0001),\n",
        "              loss = tf.keras.losses.BinaryCrossentropy(),\n",
        "              metrics = [tf.keras.metrics.BinaryAccuracy()])"
      ],
      "metadata": {
        "id": "_4z6dOVPvjdy"
      },
      "execution_count": null,
      "outputs": []
    },
    {
      "cell_type": "code",
      "source": [
        "model.summary()"
      ],
      "metadata": {
        "colab": {
          "base_uri": "https://localhost:8080/"
        },
        "id": "-eEVa3LvwQDh",
        "outputId": "395eb482-471d-48f5-9d24-9529e331b56c"
      },
      "execution_count": null,
      "outputs": [
        {
          "output_type": "stream",
          "name": "stdout",
          "text": [
            "Model: \"model\"\n",
            "_________________________________________________________________\n",
            " Layer (type)                Output Shape              Param #   \n",
            "=================================================================\n",
            " input_1 (InputLayer)        [(None, 224, 224, 3)]     0         \n",
            "                                                                 \n",
            " block1_conv1 (Conv2D)       (None, 224, 224, 64)      1792      \n",
            "                                                                 \n",
            " block1_conv2 (Conv2D)       (None, 224, 224, 64)      36928     \n",
            "                                                                 \n",
            " block1_pool (MaxPooling2D)  (None, 112, 112, 64)      0         \n",
            "                                                                 \n",
            " block2_conv1 (Conv2D)       (None, 112, 112, 128)     73856     \n",
            "                                                                 \n",
            " block2_conv2 (Conv2D)       (None, 112, 112, 128)     147584    \n",
            "                                                                 \n",
            " block2_pool (MaxPooling2D)  (None, 56, 56, 128)       0         \n",
            "                                                                 \n",
            " block3_conv1 (Conv2D)       (None, 56, 56, 256)       295168    \n",
            "                                                                 \n",
            " block3_conv2 (Conv2D)       (None, 56, 56, 256)       590080    \n",
            "                                                                 \n",
            " block3_conv3 (Conv2D)       (None, 56, 56, 256)       590080    \n",
            "                                                                 \n",
            " block3_pool (MaxPooling2D)  (None, 28, 28, 256)       0         \n",
            "                                                                 \n",
            " block4_conv1 (Conv2D)       (None, 28, 28, 512)       1180160   \n",
            "                                                                 \n",
            " block4_conv2 (Conv2D)       (None, 28, 28, 512)       2359808   \n",
            "                                                                 \n",
            " block4_conv3 (Conv2D)       (None, 28, 28, 512)       2359808   \n",
            "                                                                 \n",
            " block4_pool (MaxPooling2D)  (None, 14, 14, 512)       0         \n",
            "                                                                 \n",
            " block5_conv1 (Conv2D)       (None, 14, 14, 512)       2359808   \n",
            "                                                                 \n",
            " block5_conv2 (Conv2D)       (None, 14, 14, 512)       2359808   \n",
            "                                                                 \n",
            " block5_conv3 (Conv2D)       (None, 14, 14, 512)       2359808   \n",
            "                                                                 \n",
            " block5_pool (MaxPooling2D)  (None, 7, 7, 512)         0         \n",
            "                                                                 \n",
            " flatten (Flatten)           (None, 25088)             0         \n",
            "                                                                 \n",
            " dense (Dense)               (None, 512)               12845568  \n",
            "                                                                 \n",
            " dropout (Dropout)           (None, 512)               0         \n",
            "                                                                 \n",
            " dense_1 (Dense)             (None, 128)               65664     \n",
            "                                                                 \n",
            " dropout_1 (Dropout)         (None, 128)               0         \n",
            "                                                                 \n",
            " dense_2 (Dense)             (None, 1)                 129       \n",
            "                                                                 \n",
            "=================================================================\n",
            "Total params: 27,626,049\n",
            "Trainable params: 12,911,361\n",
            "Non-trainable params: 14,714,688\n",
            "_________________________________________________________________\n"
          ]
        }
      ]
    },
    {
      "cell_type": "code",
      "source": [
        "base = '/content/drive/MyDrive/data'\n",
        "train = os.path.join(base,'Train')\n",
        "test = os.path.join(base,'Test')"
      ],
      "metadata": {
        "id": "VH9_jqb-wXaE"
      },
      "execution_count": null,
      "outputs": []
    },
    {
      "cell_type": "code",
      "source": [
        "train_settings = ImageDataGenerator(rescale=1.0/255.,\n",
        "                                     rotation_range=40,\n",
        "                                     width_shift_range=0.2,\n",
        "                                     height_shift_range=0.2,\n",
        "                                     shear_range=0.2,\n",
        "                                     zoom_range=0.2,\n",
        "                                     horizontal_flip=True,\n",
        "                                     fill_mode='nearest')\n",
        "test_settings = ImageDataGenerator(rescale=1.0/255.)"
      ],
      "metadata": {
        "id": "fOVtRxJ1WNNr"
      },
      "execution_count": null,
      "outputs": []
    },
    {
      "cell_type": "code",
      "source": [
        "train_gen = train_settings.flow_from_directory(train,\n",
        "                                               batch_size=64,\n",
        "                                               class_mode='binary',\n",
        "                                               target_size=(224,224))\n",
        "test_gen = test_settings.flow_from_directory(test,\n",
        "                                               batch_size=20,\n",
        "                                               class_mode='binary',\n",
        "                                               target_size=(224,224))"
      ],
      "metadata": {
        "colab": {
          "base_uri": "https://localhost:8080/"
        },
        "id": "lMPx-jH0yKYh",
        "outputId": "edb46794-240c-4bd4-f03e-09f0ca39084d"
      },
      "execution_count": null,
      "outputs": [
        {
          "output_type": "stream",
          "name": "stdout",
          "text": [
            "Found 2342 images belonging to 2 classes.\n",
            "Found 300 images belonging to 2 classes.\n"
          ]
        }
      ]
    },
    {
      "cell_type": "code",
      "source": [
        "history = model.fit(train_gen,\n",
        "                    validation_data=test_gen,\n",
        "                    verbose=1,\n",
        "                    shuffle=True,\n",
        "                    epochs=4,\n",
        "                    steps_per_epoch=10,\n",
        "                    validation_steps=5)"
      ],
      "metadata": {
        "colab": {
          "base_uri": "https://localhost:8080/"
        },
        "id": "aus83nyMyZGg",
        "outputId": "0770498e-b878-4756-9876-e5b3c1841a59"
      },
      "execution_count": null,
      "outputs": [
        {
          "output_type": "stream",
          "name": "stdout",
          "text": [
            "Epoch 1/4\n",
            "10/10 [==============================] - 382s 37s/step - loss: 0.6027 - binary_accuracy: 0.6482 - val_loss: 0.3234 - val_binary_accuracy: 0.9200\n",
            "Epoch 2/4\n",
            "10/10 [==============================] - 393s 39s/step - loss: 0.3475 - binary_accuracy: 0.8641 - val_loss: 0.1290 - val_binary_accuracy: 0.9800\n",
            "Epoch 3/4\n",
            "10/10 [==============================] - 386s 39s/step - loss: 0.2308 - binary_accuracy: 0.9141 - val_loss: 0.1657 - val_binary_accuracy: 0.9400\n",
            "Epoch 4/4\n",
            "10/10 [==============================] - 386s 39s/step - loss: 0.1809 - binary_accuracy: 0.9312 - val_loss: 0.1056 - val_binary_accuracy: 0.9600\n"
          ]
        }
      ]
    },
    {
      "cell_type": "code",
      "source": [
        "print('Accuracy:'+ str(history.history['binary_accuracy']))\n",
        "print('Loss:'+ str(history.history['loss']))\n",
        "print('Validation accuracy:'+ str(history.history['val_binary_accuracy']))\n",
        "print('Validation loss:'+ str(history.history['val_loss']))"
      ],
      "metadata": {
        "colab": {
          "base_uri": "https://localhost:8080/"
        },
        "id": "U7kbzXyUmDi3",
        "outputId": "3e61758e-aa8a-4a49-c73d-62fa4cfe3ce6"
      },
      "execution_count": null,
      "outputs": [
        {
          "output_type": "stream",
          "name": "stdout",
          "text": [
            "Accuracy:[0.6482084393501282, 0.864062488079071, 0.9140625, 0.9312499761581421]\n",
            "Loss:[0.6026751399040222, 0.3474555015563965, 0.23078612983226776, 0.18087978661060333]\n",
            "Validation accuracy:[0.9200000166893005, 0.9800000190734863, 0.9399999976158142, 0.9599999785423279]\n",
            "Validation loss:[0.3233996629714966, 0.12904798984527588, 0.165731281042099, 0.10556159168481827]\n"
          ]
        }
      ]
    },
    {
      "cell_type": "code",
      "source": [
        "import matplotlib.pyplot as plt\n",
        "epochs = [0,1,2,3,4]\n",
        "plt.title('Training')\n",
        "plt.plot(epochs,[0]+history.history['binary_accuracy'],'g-')\n",
        "plt.plot(epochs,[1]+history.history['loss'],'r-')\n",
        "plt.xlabel('epochs')\n",
        "plt.ylabel('accuracy/loss')\n",
        "plt.legend(['accuracy','loss'], loc='center right')\n",
        "plt.show()\n"
      ],
      "metadata": {
        "colab": {
          "base_uri": "https://localhost:8080/",
          "height": 295
        },
        "id": "QzLntnNLmnt8",
        "outputId": "bb4b4cd0-56ed-442d-db34-cd762bd79c3f"
      },
      "execution_count": null,
      "outputs": [
        {
          "output_type": "display_data",
          "data": {
            "text/plain": [
              "<Figure size 432x288 with 1 Axes>"
            ],
            "image/png": "[encoded data removed]"
          },
          "metadata": {
            "needs_background": "light"
          }
        }
      ]
    },
    {
      "cell_type": "code",
      "source": [
        "plt.title('Validation')\n",
        "plt.plot(epochs,[0]+history.history['val_binary_accuracy'],'g-')\n",
        "plt.plot(epochs,[1]+history.history['val_loss'],'r-')\n",
        "plt.xlabel('epochs')\n",
        "plt.ylabel('accuracy/loss')\n",
        "plt.legend(['accuracy','loss'], loc='center right')\n",
        "plt.show()"
      ],
      "metadata": {
        "colab": {
          "base_uri": "https://localhost:8080/",
          "height": 295
        },
        "id": "nyieh0tTnsDo",
        "outputId": "57325470-d8b0-40c3-fe50-997fe7941af3"
      },
      "execution_count": null,
      "outputs": [
        {
          "output_type": "display_data",
          "data": {
            "text/plain": [
              "<Figure size 432x288 with 1 Axes>"
            ],
            "image/png": "[encoded data removed]"
          },
          "metadata": {
            "needs_background": "light"
          }
        }
      ]
    }
  ]
}